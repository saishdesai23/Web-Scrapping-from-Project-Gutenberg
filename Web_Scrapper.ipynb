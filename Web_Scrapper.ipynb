{
  "cells": [
    {
      "cell_type": "markdown",
      "metadata": {
        "id": "view-in-github",
        "colab_type": "text"
      },
      "source": [
        "<a href=\"https://colab.research.google.com/github/saishdesai23/Web-Scrapping-from-Project-Gutenberg/blob/main/Web_Scrapper.ipynb\" target=\"_parent\"><img src=\"https://colab.research.google.com/assets/colab-badge.svg\" alt=\"Open In Colab\"/></a>"
      ]
    },
    {
      "cell_type": "markdown",
      "id": "605c5838",
      "metadata": {
        "id": "605c5838"
      },
      "source": [
        "Web Scrapping mini Assignment\n",
        "Author: Saish Desai\n",
        "references - https://elitedatascience.com/python-web-scraping-libraries"
      ]
    },
    {
      "cell_type": "code",
      "source": [
        "!pip install syllapy"
      ],
      "metadata": {
        "colab": {
          "base_uri": "https://localhost:8080/"
        },
        "id": "B7oAcMPIwnpn",
        "outputId": "9a4efca2-f589-43da-b81f-1fdbb2a82660"
      },
      "id": "B7oAcMPIwnpn",
      "execution_count": 145,
      "outputs": [
        {
          "output_type": "stream",
          "name": "stdout",
          "text": [
            "Requirement already satisfied: syllapy in /usr/local/lib/python3.7/dist-packages (0.7.1)\n",
            "Requirement already satisfied: ujson<2.0,>=1.35 in /usr/local/lib/python3.7/dist-packages (from syllapy) (1.35)\n"
          ]
        }
      ]
    },
    {
      "cell_type": "markdown",
      "source": [
        "# 1. Installing all the required libraries"
      ],
      "metadata": {
        "id": "vuKKTYvr9y2u"
      },
      "id": "vuKKTYvr9y2u"
    },
    {
      "cell_type": "code",
      "execution_count": 146,
      "id": "13951e36",
      "metadata": {
        "colab": {
          "base_uri": "https://localhost:8080/"
        },
        "id": "13951e36",
        "outputId": "c54cf2f2-ddea-495b-a3ec-47639eee99e6"
      },
      "outputs": [
        {
          "output_type": "stream",
          "name": "stdout",
          "text": [
            "[nltk_data] Downloading package punkt to /root/nltk_data...\n",
            "[nltk_data]   Package punkt is already up-to-date!\n",
            "[nltk_data] Downloading package averaged_perceptron_tagger to\n",
            "[nltk_data]     /root/nltk_data...\n",
            "[nltk_data]   Package averaged_perceptron_tagger is already up-to-\n",
            "[nltk_data]       date!\n",
            "[nltk_data] Downloading package stopwords to /root/nltk_data...\n",
            "[nltk_data]   Package stopwords is already up-to-date!\n"
          ]
        }
      ],
      "source": [
        "# request library\n",
        "# guide to use request - https://docs.python-requests.org/en/master/user/quickstart/\n",
        "import requests \n",
        "from PIL import Image\n",
        "from io import BytesIO\n",
        "from bs4 import BeautifulSoup # library for pulling out HTML and XML files\n",
        "from textblob import TextBlob # part of speach tagging\n",
        "import re\n",
        "import string\n",
        "from sklearn.feature_extraction.text import TfidfVectorizer # Tf - idf vectorization\n",
        "import pandas as pd\n",
        "import nltk\n",
        "nltk.download('punkt')\n",
        "nltk.download('averaged_perceptron_tagger')\n",
        "nltk.download('stopwords')\n",
        "from nltk.corpus import stopwords\n",
        "from nltk.stem import PorterStemmer\n",
        "from nltk.stem.wordnet import WordNetLemmatizer\n",
        "from nltk.stem import SnowballStemmer\n",
        "import spacy\n",
        "import syllapy\n",
        "import random\n"
      ]
    },
    {
      "cell_type": "markdown",
      "source": [
        "#2. Extracting the link for book data from the \"Project Gutenberg\" Website."
      ],
      "metadata": {
        "id": "qkjt0eiF95KU"
      },
      "id": "qkjt0eiF95KU"
    },
    {
      "cell_type": "code",
      "execution_count": 147,
      "id": "732c64d3",
      "metadata": {
        "id": "732c64d3"
      },
      "outputs": [],
      "source": [
        "# Function for extracting book text link\n",
        "def url_to_html(website_link : str,book_id : int):\n",
        "    \"\"\"\n",
        "    A function to get the website link and book id and return the html parsed format of the chosen book.\n",
        "    :param website_link: link of the website where books are stored\n",
        "    :param book_id: id of the book for which the data is to be extracted\n",
        "    :returns: returns content from the chosen webpage in html format\n",
        "    \"\"\"\n",
        "    ebook_link = website_link + \"/ebooks/\" + book_id\n",
        "    headers = {'Saish Desai': 'Web scraper - school project (sbdesai2@illinois.edu)'}\n",
        "    book = requests.get(ebook_link, params = None) #using get request to get the website link for chosen book\n",
        "    if book.status_code == 200:\n",
        "        soup = BeautifulSoup(book.text, 'html.parser')# using the BeaitifulSoup module to parse the html format\n",
        "        link = soup.find(type=re.compile(\"text/html\")) # selecting tag to extract html format of the book\n",
        "        text_link  = link.get('href')\n",
        "        ebook_text_link = website_link + text_link #link for html format of the book\n",
        "        s = requests.Session()\n",
        "        book_data = s.get(ebook_text_link)\n",
        "        print(ebook_text_link)\n",
        "        soup_data = BeautifulSoup(book_data.text, 'html.parser')\n",
        "        return soup_data\n",
        "    else:\n",
        "        print(\"Error:\",book.status_code)"
      ]
    },
    {
      "cell_type": "markdown",
      "source": [
        "For this project, I am considering the book- \"TWENTY THOUSAND LEAGUES UNDER THE SEA\". The code for this book under Project Gutenberg is 164. So the user will have to enter the code - 164."
      ],
      "metadata": {
        "id": "ZFUWggxzfU4G"
      },
      "id": "ZFUWggxzfU4G"
    },
    {
      "cell_type": "code",
      "execution_count": 148,
      "id": "1417259e",
      "metadata": {
        "colab": {
          "base_uri": "https://localhost:8080/"
        },
        "id": "1417259e",
        "outputId": "7b863225-f792-4b15-ec20-2fcedf1989f9"
      },
      "outputs": [
        {
          "output_type": "stream",
          "name": "stdout",
          "text": [
            "Enter Book ID: 164\n",
            "https://www.gutenberg.org/files/164/164-h/164-h.htm\n"
          ]
        }
      ],
      "source": [
        "website_link = \"https://www.gutenberg.org\"\n",
        "book_id = input(\"Enter Book ID: \")\n",
        "soup_data = url_to_html(website_link,book_id)"
      ]
    },
    {
      "cell_type": "code",
      "execution_count": 149,
      "id": "406e74de",
      "metadata": {
        "id": "406e74de"
      },
      "outputs": [],
      "source": [
        "# Function for converting Roman numerals to integers\n",
        "# https://www.tutorialspoint.com/roman-to-integer-in-python\n",
        "def romanToInt(s:str) -> int:\n",
        "      \"\"\"\n",
        "      Function to convert string of roman characters to integers.\n",
        "      \"\"\"\n",
        "      roman = {'I':1,'V':5,'X':10,'L':50,'C':100,'D':500,'M':1000,'IV':4,'IX':9,'XL':40,'XC':90,'CD':400,'CM':900}\n",
        "      i = 0\n",
        "      num = 0\n",
        "      while i < len(s):\n",
        "         if i+1<len(s) and s[i:i+2] in roman:\n",
        "            num+=roman[s[i:i+2]]\n",
        "            i+=2\n",
        "         else:\n",
        "            #print(i)\n",
        "            num+=roman[s[i]]\n",
        "            i+=1\n",
        "      return num"
      ]
    },
    {
      "cell_type": "markdown",
      "source": [
        "#3. Extracting the book title from the html file of the book.\n",
        "We look at the \"h1\" tag from the html file of the book. We identify that there are to places in the html file where the tag has been used. We consider the text of the first \"h1\" tag as the title of the book"
      ],
      "metadata": {
        "id": "ZJHiP3AG-o9w"
      },
      "id": "ZJHiP3AG-o9w"
    },
    {
      "cell_type": "code",
      "source": [
        "l = [] # list to store test of all the \"h1\" tags from the html file of the book\n",
        "for ele in soup_data.find_all(\"h1\"):\n",
        "  ele = (ele.text)\n",
        "  ele = re.sub(\"[^a-zA-Z0-9., ]\",\"\",ele)\n",
        "  l.append(ele)\n",
        "book_title = l[0]\n",
        "print(\" The title of the book is: \", book_title)"
      ],
      "metadata": {
        "colab": {
          "base_uri": "https://localhost:8080/"
        },
        "id": "W1mm6Zf0-1mY",
        "outputId": "bd487b7c-d06c-4e32-d5bd-5dedc899ac04"
      },
      "id": "W1mm6Zf0-1mY",
      "execution_count": 150,
      "outputs": [
        {
          "output_type": "stream",
          "name": "stdout",
          "text": [
            " The title of the book is:  TWENTY THOUSAND LEAGUES UNDER THE SEA\n"
          ]
        }
      ]
    },
    {
      "cell_type": "markdown",
      "source": [
        "#4. Storing the book contents in a dictionary"
      ],
      "metadata": {
        "id": "STn-I2qcRaln"
      },
      "id": "STn-I2qcRaln"
    },
    {
      "cell_type": "code",
      "execution_count": 156,
      "id": "1962ab1d",
      "metadata": {
        "colab": {
          "base_uri": "https://localhost:8080/"
        },
        "id": "1962ab1d",
        "outputId": "18da74aa-cf93-41c8-dd4f-24652a70bf58"
      },
      "outputs": [
        {
          "output_type": "execute_result",
          "data": {
            "text/plain": [
              "{'TWENTY THOUSAND LEAGUES UNDER THE SEA': [{'CHAPTER 1': 'A SHIFTING REEF',\n",
              "   'content': 'The year 1866 was signalised by a remarkable incident, a mysterious and puzzling phenomenon, which doubtless no one has yet forgotten. Not to mention rumours which agitated the maritime population and excited the public mind, even in the interior of continents, seafaring men were particularly excited. Merchants, common sailors, captains of vessels, skippers, both of Europe and America, naval officers of all countries, and the Governments of several States on the two continents, were deeply interested in the matter.For some time past vessels had been met by an enormous thing, a long object, spindleshaped, occasionally phosphorescent, and infinitely larger and more rapid in its movements than a whale.The facts relating to this apparition entered in various logbooks agreed in most respects as to the shape of the object or creature in question, the untiring rapidity of its movements, its surprising power of locomotion, and the peculiar life with which it seemed endowed. If it was a whale, it surpassed in size all those hitherto classified in science. Taking into consideration the mean of observations made at divers times rejecting the timid estimate of those who assigned to this object a length of two hundred feet, equally with the exaggerated opinions which set it down as a mile in width and three in length we might fairly conclude that this mysterious being surpassed greatly all dimensions admitted by the learned ones of the day, if it existed at all. And that it DID exist was an undeniable fact and, with that tendency which disposes the human mind in favour of the marvellous, we can understand the excitement produced in the entire world by this supernatural apparition. As to classing it in the list of fables, the idea was out of the question.On the 20th of July, 1866, the steamer Governor Higginson, of the Calcutta and Burnach Steam Navigation Company, had met this moving mass five miles off the east coast of Australia. Captain Baker thought at first that he was in the presence of an unknown sandbank he even prepared to determine its exact position when two columns of water, projected by the mysterious object, shot with a hissing noise a hundred and fifty feet up into the air. Now, unless the sandbank had been submitted to the intermittent eruption of a geyser, the Governor Higginson had to do neither more nor less than with an aquatic mammal, unknown till then, which threw up from its blowholes columns of water mixed with air and vapour.Similar facts were observed on the 23rd of July in the same year, in the Pacific Ocean, by the Columbus, of the West India and Pacific Steam Navigation Company. But this extraordinary creature could transport itself from one place to another with surprising velocity as, in an interval of three days, the Governor Higginson and the Columbus had observed it at two different points of the chart, separated by a distance of more than seven hundred nautical leagues.'},\n",
              "  {'CHAPTER 2': 'PRO AND CON',\n",
              "   'content': 'At the period when these events took place, I had just returned from a scientific research in the disagreeable territory of Nebraska, in the United States. In virtue of my office as Assistant Professor in the Museum of Natural History in Paris, the French Government had attached me to that expedition. After six months in Nebraska, I arrived in New York towards the end of March, laden with a precious collection. My departure for France was fixed for the first days in May. Meanwhile I was occupying myself in classifying my mineralogical, botanical, and zoological riches, when the accident happened to the Scotia.I was perfectly up in the subject which was the question of the day. How could I be otherwise I had read and reread all the American and European papers without being any nearer a conclusion. This mystery puzzled me. Under the impossibility of forming an opinion, I jumped from one extreme to the other. That there really was something could not be doubted, and the incredulous were invited to put their finger on the wound of the Scotia.On my arrival at New York the question was at its height. The theory of the floating island, and the unapproachable sandbank, supported by minds little competent to form a judgment, was abandoned. And, indeed, unless this shoal had a machine in its stomach, how could it change its position with such astonishing rapidityFrom the same cause, the idea of a floating hull of an enormous wreck was given up.There remained, then, only two possible solutions of the question, which created two distinct parties on one side, those who were for a monster of colossal strength on the other, those who were for a submarine vessel of enormous motive power.'},\n",
              "  {'CHAPTER 3': 'I FORM MY RESOLUTION',\n",
              "   'content': 'Three seconds before the arrival of J. B. Hobsons letter I no more thought of pursuing the unicorn than of attempting the passage of the North Sea. Three seconds after reading the letter of the honourable Secretary of Marine, I felt that my true vocation, the sole end of my life, was to chase this disturbing monster and purge it from the world.But I had just returned from a fatiguing journey, weary and longing for repose. I aspired to nothing more than again seeing my country, my friends, my little lodging by the Jardin des Plantes, my dear and precious collections but nothing could keep me back I forgot all fatigue, friends and collections and accepted without hesitation the offer of the American Government.Besides, thought I, all roads lead back to Europe and the unicorn may be amiable enough to hurry me towards the coast of France. This worthy animal may allow itself to be caught in the seas of Europe for my particular benefit, and I will not bring back less than half a yard of his ivory halberd to the Museum of Natural History. But in the meanwhile I must seek this narwhal in the North Pacific Ocean, which, to return to France, was taking the road to the antipodes.Conseil, I called in an impatient voice.Conseil was my servant, a true, devoted Flemish boy, who had accompanied me in all my travels. I liked him, and he returned the liking well. He was quiet by nature, regular from principle, zealous from habit, evincing little disturbance at the different surprises of life, very quick with his hands, and apt at any service required of him and, despite his name, never giving advice even when asked for it.'},\n",
              "  {'CHAPTER 4': 'NED LAND',\n",
              "   'content': 'Captain Farragut was a good seaman, worthy of the frigate he commanded. His vessel and he were one. He was the soul of it. On the question of the monster there was no doubt in his mind, and he would not allow the existence of the animal to be disputed on board. He believed in it, as certain good women believe in the leviathan by faith, not by reason. The monster did exist, and he had sworn to rid the seas of it. Either Captain Farragut would kill the narwhal, or the narwhal would kill the captain. There was no third course.The officers on board shared the opinion of their chief. They were ever chatting, discussing, and calculating the various chances of a meeting, watching narrowly the vast surface of the ocean. More than one took up his quarters voluntarily in the crosstrees, who would have cursed such a berth under any other circumstances. As long as the sun described its daily course, the rigging was crowded with sailors, whose feet were burnt to such an extent by the heat of the deck as to render it unbearable still the Abraham Lincoln had not yet breasted the suspected waters of the Pacific. As to the ships company, they desired nothing better than to meet the unicorn, to harpoon it, hoist it on board, and despatch it. They watched the sea with eager attention.Besides, Captain Farragut had spoken of a certain sum of two thousand dollars, set apart for whoever should first sight the monster, were he cabinboy, common seaman, or officer.I leave you to judge how eyes were used on board the Abraham Lincoln.For my own part I was not behind the others, and, left to no one my share of daily observations. The frigate might have been called the Argus, for a hundred reasons. Only one amongst us, Conseil, seemed to protest by his indifference against the question which so interested us all, and seemed to be out of keeping with the general enthusiasm on board.'},\n",
              "  {'CHAPTER 5': 'AT A VENTURE',\n",
              "   'content': 'The voyage of the Abraham Lincoln was for a long time marked by no special incident. But one circumstance happened which showed the wonderful dexterity of Ned Land, and proved what confidence we might place in him.The 30th of June, the frigate spoke some American whalers, from whom we learned that they knew nothing about the narwhal. But one of them, the captain of the Monroe, knowing that Ned Land had shipped on board the Abraham Lincoln, begged for his help in chasing a whale they had in sight. Commander Farragut, desirous of seeing Ned Land at work, gave him permission to go on board the Monroe. And fate served our Canadian so well that, instead of one whale, he harpooned two with a double blow, striking one straight to the heart, and catching the other after some minutes pursuit.Decidedly, if the monster ever had to do with Ned Lands harpoon, I would not bet in its favour.The frigate skirted the southeast coast of America with great rapidity. The 3rd of July we were at the opening of the Straits of Magellan, level with Cape Vierges. But Commander Farragut would not take a tortuous passage, but doubled Cape Horn.The ships crew agreed with him. And certainly it was possible that they might meet the narwhal in this narrow pass. Many of the sailors affirmed that the monster could not pass there, that he was too big for that'},\n",
              "  {'CHAPTER 6': 'AT FULL STEAM',\n",
              "   'content': 'At this cry the whole ships crew hurried towards the harpooner commander, officers, masters, sailors, cabin boys even the engineers left their engines, and the stokers their furnaces.The order to stop her had been given, and the frigate now simply went on by her own momentum. The darkness was then profound, and, however good the Canadians eyes were, I asked myself how he had managed to see, and what he had been able to see. My heart beat as if it would break. But Ned Land was not mistaken, and we all perceived the object he pointed to. At two cables length from the Abraham Lincoln, on the starboard quarter, the sea seemed to be illuminated all over. It was not a mere phosphoric phenomenon. The monster emerged some fathoms from the water, and then threw out that very intense but mysterious light mentioned in the report of several captains. This magnificent irradiation must have been produced by an agent of great SHINING power. The luminous part traced on the sea an immense oval, much elongated, the centre of which condensed a burning heat, whose overpowering brilliancy died out by successive gradations.It is only a massing of phosphoric particles, cried one of the officers.No, sir, certainly not, I replied. That brightness is of an essentially electrical nature. Besides, see, see it moves it is moving forwards, backwards it is darting towards usA general cry arose from the frigate.'},\n",
              "  {'CHAPTER 7': 'AN UNKNOWN SPECIES OF WHALE',\n",
              "   'content': 'This unexpected fall so stunned me that I have no clear recollection of my sensations at the time. I was at first drawn down to a depth of about twenty feet. I am a good swimmer though without pretending to rival Byron or Edgar Poe, who were masters of the art, and in that plunge I did not lose my presence of mind. Two vigorous strokes brought me to the surface of the water. My first care was to look for the frigate. Had the crew seen me disappear Had the Abraham Lincoln veered round Would the captain put out a boat Might I hope to be savedThe darkness was intense. I caught a glimpse of a black mass disappearing in the east, its beacon lights dying out in the distance. It was the frigate I was lost.Help, help I shouted, swimming towards the Abraham Lincoln in desperation.My clothes encumbered me they seemed glued to my body, and paralysed my movements.I was sinking I was suffocating'},\n",
              "  {'CHAPTER 8': 'MOBILIS IN MOBILI',\n",
              "   'content': 'This forcible abduction, so roughly carried out, was accomplished with the rapidity of lightning. I shivered all over. Whom had we to deal with No doubt some new sort of pirates, who explored the sea in their own way. Hardly had the narrow panel closed upon me, when I was enveloped in darkness. My eyes, dazzled with the outer light, could distinguish nothing. I felt my naked feet cling to the rungs of an iron ladder. Ned Land and Conseil, firmly seized, followed me. At the bottom of the ladder, a door opened, and shut after us immediately with a bang.We were alone. Where, I could not say, hardly imagine. All was black, and such a dense black that, after some minutes, my eyes had not been able to discern even the faintest glimmer.Meanwhile, Ned Land, furious at these proceedings, gave free vent to his indignation.Confound it cried he, here are people who come up to the Scotch for hospitality. They only just miss being cannibals. I should not be surprised at it, but I declare that they shall not eat me without my protesting.Calm yourself, friend Ned, calm yourself, replied Conseil, quietly. Do not cry out before you are hurt. We are not quite done for yet.'},\n",
              "  {'CHAPTER 9': \"NED LAND'S TEMPERS\",\n",
              "   'content': 'How long we slept I do not know but our sleep must have lasted long, for it rested us completely from our fatigues. I woke first. My companions had not moved, and were still stretched in their corner.Hardly roused from my somewhat hard couch, I felt my brain freed, my mind clear. I then began an attentive examination of our cell. Nothing was changed inside. The prison was still a prison the prisoners, prisoners. However, the steward, during our sleep, had cleared the table. I breathed with difficulty. The heavy air seemed to oppress my lungs. Although the cell was large, we had evidently consumed a great part of the oxygen that it contained. Indeed, each man consumes, in one hour, the oxygen contained in more than 176 pints of air, and this air, charged as then with a nearly equal quantity of carbonic acid, becomes unbreathable.It became necessary to renew the atmosphere of our prison, and no doubt the whole in the submarine boat. That gave rise to a question in my mind. How would the commander of this floating dwellingplace proceed Would he obtain air by chemical means, in getting by heat the oxygen contained in chlorate of potash, and in absorbing carbonic acid by caustic potash Or a more convenient, economical, and consequently more probable alternative would he be satisfied to rise and take breath at the surface of the water, like a whale, and so renew for twentyfour hours the atmospheric provisionIn fact, I was already obliged to increase my respirations to eke out of this cell the little oxygen it contained, when suddenly I was refreshed by a current of pure air, and perfumed with saline emanations. It was an invigorating sea breeze, charged with iodine. I opened my mouth wide, and my lungs saturated themselves with fresh particles.At the same time I felt the boat rolling. The ironplated monster had evidently just risen to the surface of the ocean to breathe, after the fashion of whales. I found out from that the mode of ventilating the boat.'},\n",
              "  {'CHAPTER 10': 'THE MAN OF THE SEAS',\n",
              "   'content': 'It was the commander of the vessel who thus spoke.At these words, Ned Land rose suddenly. The steward, nearly strangled, tottered out on a sign from his master. But such was the power of the commander on board, that not a gesture betrayed the resentment which this man must have felt towards the Canadian. Conseil interested in spite of himself, I stupefied, awaited in silence the result of this scene.The commander, leaning against the corner of a table with his arms folded, scanned us with profound attention. Did he hesitate to speak Did he regret the words which he had just spoken in French One might almost think so.After some moments of silence, which not one of us dreamed of breaking, Gentlemen, said he, in a calm and penetrating voice, I speak French, English, German, and Latin equally well. I could, therefore, have answered you at our first interview, but I wished to know you first, then to reflect. The story told by each one, entirely agreeing in the main points, convinced me of your identity. I know now that chance has brought before me M. Pierre Aronnax, Professor of Natural History at the Museum of Paris, entrusted with a scientific mission abroad, Conseil, his servant, and Ned Land, of Canadian origin, harpooner on board the frigate Abraham Lincoln of the navy of the United States of America.I bowed assent. It was not a question that the commander put to me. Therefore there was no answer to be made. This man expressed himself with perfect ease, without any accent. His sentences were well turned, his words clear, and his fluency of speech remarkable. Yet, I did not recognise in him a fellowcountryman.'},\n",
              "  {'CHAPTER 11': 'ALL BY ELECTRICITY',\n",
              "   'content': 'Sir, said Captain Nemo, showing me the instruments hanging on the walls of his room, here are the contrivances required for the navigation of the Nautilus. Here, as in the drawingroom, I have them always under my eyes, and they indicate my position and exact direction in the middle of the ocean. Some are known to you, such as the thermometer, which gives the internal temperature of the Nautilus the barometer, which indicates the weight of the air and foretells the changes of the weather the hygrometer, which marks the dryness of the atmosphere the stormglass, the contents of which, by decomposing, announce the approach of tempests the compass, which guides my course the sextant, which shows the latitude by the altitude of the sun chronometers, by which I calculate the longitude and glasses for day and night, which I use to examine the points of the horizon, when the Nautilus rises to the surface of the waves.These are the usual nautical instruments, I replied, and I know the use of them. But these others, no doubt, answer to the particular requirements of the Nautilus. This dial with movable needle is a manometer, is it notIt is actually a manometer. But by communication with the water, whose external pressure it indicates, it gives our depth at the same time.And these other instruments, the use of which I cannot guessHere, Professor, I ought to give you some explanations. Will you be kind enough to listen to me'},\n",
              "  {'CHAPTER 12': 'SOME FIGURES',\n",
              "   'content': 'A moment after we were seated on a divan in the saloon smoking. The Captain showed me a sketch that gave the plan, section, and elevation of the Nautilus. Then he began his description in these wordsHere, M. Aronnax, are the several dimensions of the boat you are in. It is an elongated cylinder with conical ends. It is very like a cigar in shape, a shape already adopted in London in several constructions of the same sort. The length of this cylinder, from stem to stern, is exactly 232 feet, and its maximum breadth is twentysix feet. It is not built quite like your longvoyage steamers, but its lines are sufficiently long, and its curves prolonged enough, to allow the water to slide off easily, and oppose no obstacle to its passage. These two dimensions enable you to obtain by a simple calculation the surface and cubic contents of the Nautilus. Its area measures 6,032 feet and its contents about 1,500 cubic yards that is to say, when completely immersed it displaces 50,000 feet of water, or weighs 1,500 tons.When I made the plans for this submarine vessel, I meant that ninetenths should be submerged consequently it ought only to displace ninetenths of its bulk, that is to say, only to weigh that number of tons. I ought not, therefore, to have exceeded that weight, constructing it on the aforesaid dimensions.The Nautilus is composed of two hulls, one inside, the other outside, joined by Tshaped irons, which render it very strong. Indeed, owing to this cellular arrangement it resists like a block, as if it were solid. Its sides cannot yield it coheres spontaneously, and not by the closeness of its rivets and its perfect union of the materials enables it to defy the roughest seas.These two hulls are composed of steel plates, whose density is from .7 to .8 that of water. The first is not less than two inches and a half thick and weighs 394 tons. The second envelope, the keel, twenty inches high and ten thick, weighs only sixtytwo tons. The engine, the ballast, the several accessories and apparatus appendages, the partitions and bulkheads, weigh 961.62 tons. Do you follow all this'},\n",
              "  {'CHAPTER 13': 'THE BLACK RIVER',\n",
              "   'content': 'The portion of the terrestrial globe which is covered by water is estimated at upwards of eighty millions of acres. This fluid mass comprises two billions two hundred and fifty millions of cubic miles, forming a spherical body of a diameter of sixty leagues, the weight of which would be three quintillions of tons. To comprehend the meaning of these figures, it is necessary to observe that a quintillion is to a billion as a billion is to unity in other words, there are as many billions in a quintillion as there are units in a billion. This mass of fluid is equal to about the quantity of water which would be discharged by all the rivers of the earth in forty thousand years.During the geological epochs the ocean originally prevailed everywhere. Then by degrees, in the silurian period, the tops of the mountains began to appear, the islands emerged, then disappeared in partial deluges, reappeared, became settled, formed continents, till at length the earth became geographically arranged, as we see in the present day. The solid had wrested from the liquid thirtyseven million six hundred and fiftyseven square miles, equal to twelve billions nine hundred and sixty millions of acres.The shape of continents allows us to divide the waters into five great portions the Arctic or Frozen Ocean, the Antarctic, or Frozen Ocean, the Indian, the Atlantic, and the Pacific Oceans.The Pacific Ocean extends from north to south between the two Polar Circles, and from east to west between Asia and America, over an extent of 145 degrees of longitude. It is the quietest of seas its currents are broad and slow, it has medium tides, and abundant rain. Such was the ocean that my fate destined me first to travel over under these strange conditions.Sir, said Captain Nemo, we will, if you please, take our bearings and fix the startingpoint of this voyage. It is a quarter to twelve I will go up again to the surface.'},\n",
              "  {'CHAPTER 14': 'A NOTE OF INVITATION',\n",
              "   'content': 'The next day was the 9th of November. I awoke after a long sleep of twelve hours. Conseil came, according to custom, to know how I passed the night, and to offer his services. He had left his friend the Canadian sleeping like a man who had never done anything else all his life. I let the worthy fellow chatter as he pleased, without caring to answer him. I was preoccupied by the absence of the Captain during our sitting of the day before, and hoping to see him today.As soon as I was dressed I went into the saloon. It was deserted. I plunged into the study of the shell treasures hidden behind the glasses.The whole day passed without my being honoured by a visit from Captain Nemo. The panels of the saloon did not open. Perhaps they did not wish us to tire of these beautiful things.The course of the Nautilus was E.N.E., her speed twelve knots, the depth below the surface between twentyfive and thirty fathoms.The next day, 10th of November, the same desertion, the same solitude. I did not see one of the ships crew Ned and Conseil spent the greater part of the day with me. They were astonished at the puzzling absence of the Captain. Was this singular man ill had he altered his intentions with regard to us'},\n",
              "  {'CHAPTER 15': 'A WALK ON THE BOTTOM OF THE SEA',\n",
              "   'content': 'This cell was, to speak correctly, the arsenal and wardrobe of the Nautilus. A dozen diving apparatuses hung from the partition waiting our use.Ned Land, on seeing them, showed evident repugnance to dress himself in one.But, my worthy Ned, the forests of the Island of Crespo are nothing but submarine forests.Good said the disappointed harpooner, who saw his dreams of fresh meat fade away. And you, M. Aronnax, are you going to dress yourself in those clothesThere is no alternative, Master Ned.'},\n",
              "  {'CHAPTER 16': 'A SUBMARINE FOREST',\n",
              "   'content': 'We had at last arrived on the borders of this forest, doubtless one of the finest of Captain Nemos immense domains. He looked upon it as his own, and considered he had the same right over it that the first men had in the first days of the world. And, indeed, who would have disputed with him the possession of this submarine property What other hardier pioneer would come, hatchet in hand, to cut down the dark copsesThis forest was composed of large treeplants and the moment we penetrated under its vast arcades, I was struck by the singular position of their branches a position I had not yet observed.Not an herb which carpeted the ground, not a branch which clothed the trees, was either broken or bent, nor did they extend horizontally all stretched up to the surface of the ocean. Not a filament, not a ribbon, however thin they might be, but kept as straight as a rod of iron. The fuci and llianas grew in rigid perpendicular lines, due to the density of the element which had produced them. Motionless yet, when bent to one side by the hand, they directly resumed their former position. Truly it was the region of perpendicularityI soon accustomed myself to this fantastic position, as well as to the comparative darkness which surrounded us. The soil of the forest seemed covered with sharp blocks, difficult to avoid. The submarine flora struck me as being very perfect, and richer even than it would have been in the arctic or tropical zones, where these productions are not so plentiful. But for some minutes I involuntarily confounded the genera, taking animals for plants and who would not have been mistaken The fauna and the flora are too closely allied in this submarine world.These plants are selfpropagated, and the principle of their existence is in the water, which upholds and nourishes them. The greater number, instead of leaves, shoot forth blades of capricious shapes, comprised within a scale of colours pink, carmine, green, olive, fawn, and brown.'},\n",
              "  {'CHAPTER 17': 'FOUR THOUSAND LEAGUES UNDER THE PACIFIC',\n",
              "   'content': 'The next morning, the 18th of November, I had quite recovered from my fatigues of the day before, and I went up on to the platform, just as the second lieutenant was uttering his daily phrase.I was admiring the magnificent aspect of the ocean when Captain Nemo appeared. He did not seem to be aware of my presence, and began a series of astronomical observations. Then, when he had finished, he went and leant on the cage of the watchlight, and gazed abstractedly on the ocean. In the meantime, a number of the sailors of the Nautilus, all strong and healthy men, had come up onto the platform. They came to draw up the nets that had been laid all night. These sailors were evidently of different nations, although the European type was visible in all of them. I recognised some unmistakable Irishmen, Frenchmen, some Sclaves, and a Greek, or a Candiote. They were civil, and only used that odd language among themselves, the origin of which I could not guess, neither could I question them.The nets were hauled in. They were a large kind of chaluts, like those on the Normandy coasts, great pockets that the waves and a chain fixed in the smaller meshes kept open. These pockets, drawn by iron poles, swept through the water, and gathered in everything in their way. That day they brought up curious specimens from those productive coasts.I reckoned that the haul had brought in more than nine hundredweight of fish. It was a fine haul, but not to be wondered at. Indeed, the nets are let down for several hours, and enclose in their meshes an infinite variety. We had no lack of excellent food, and the rapidity of the Nautilus and the attraction of the electric light could always renew our supply. These several productions of the sea were immediately lowered through the panel to the stewards room, some to be eaten fresh, and others pickled.The fishing ended, the provision of air renewed, I thought that the Nautilus was about to continue its submarine excursion, and was preparing to return to my room, when, without further preamble, the Captain turned to me, saying'},\n",
              "  {'CHAPTER 18': 'VANIKORO',\n",
              "   'content': 'This terrible spectacle was the forerunner of the series of maritime catastrophes that the Nautilus was destined to meet with in its route. As long as it went through more frequented waters, we often saw the hulls of shipwrecked vessels that were rotting in the depths, and deeper down cannons, bullets, anchors, chains, and a thousand other iron materials eaten up by rust. However, on the 11th of December we sighted the Pomotou Islands, the old dangerous group of Bougainville, that extend over a space of 500 leagues at E.S.E. to W.N.W., from the Island Ducie to that of Lazareff. This group covers an area of 370 square leagues, and it is formed of sixty groups of islands, among which the Gambier group is remarkable, over which France exercises sway. These are coral islands, slowly raised, but continuous, created by the daily work of polypi. Then this new island will be joined later on to the neighboring groups, and a fifth continent will stretch from New Zealand and New Caledonia, and from thence to the Marquesas.One day, when I was suggesting this theory to Captain Nemo, he replied coldlyThe earth does not want new continents, but new men.Chance had conducted the Nautilus towards the Island of ClermontTonnere, one of the most curious of the group, that was discovered in 1822 by Captain Bell of the Minerva. I could study now the madreporal system, to which are due the islands in this ocean.Madrepores which must not be mistaken for corals have a tissue lined with a calcareous crust, and the modifications of its structure have induced M. Milne Edwards, my worthy master, to class them into five sections. The animalcule that the marine polypus secretes live by millions at the bottom of their cells. Their calcareous deposits become rocks, reefs, and large and small islands. Here they form a ring, surrounding a little inland lake, that communicates with the sea by means of gaps. There they make barriers of reefs like those on the coasts of New Caledonia and the various Pomoton islands. In other places, like those at Reunion and at Maurice, they raise fringed reefs, high, straight walls, near which the depth of the ocean is considerable.'},\n",
              "  {'CHAPTER 19': 'TORRES STRAITS',\n",
              "   'content': 'During the night of the 27th or 28th of December, the Nautilus left the shores of Vanikoro with great speed. Her course was southwesterly, and in three days she had gone over the 750 leagues that separated it from La Perouses group and the southeast point of Papua.Early on the 1st of January, 1863, Conseil joined me on the platform.Master, will you permit me to wish you a happy New YearWhat Conseil exactly as if I was at Paris in my study at the Jardin des Plantes Well, I accept your good wishes, and thank you for them. Only, I will ask you what you mean by a Happy New Year under our circumstances Do you mean the year that will bring us to the end of our imprisonment, or the year that sees us continue this strange voyageReally, I do not know how to answer, master. We are sure to see curious things, and for the last two months we have not had time for dullness. The last marvel is always the most astonishing and, if we continue this progression, I do not know how it will end. It is my opinion that we shall never again see the like. I think then, with no offence to master, that a happy year would be one in which we could see everything.'},\n",
              "  {'CHAPTER 20': 'A FEW DAYS ON LAND',\n",
              "   'content': 'I was much impressed on touching land. Ned Land tried the soil with his feet, as if to take possession of it. However, it was only two months before that we had become, according to Captain Nemo, passengers on board the Nautilus, but, in reality, prisoners of its commander.In a few minutes we were within musketshot of the coast. The whole horizon was hidden behind a beautiful curtain of forests. Enormous trees, the trunks of which attained a height of 200 feet, were tied to each other by garlands of bindweed, real natural hammocks, which a light breeze rocked. They were mimosas, figs, hibisci, and palm trees, mingled together in profusion and under the shelter of their verdant vault grew orchids, leguminous plants, and ferns.But, without noticing all these beautiful specimens of Papuan flora, the Canadian abandoned the agreeable for the useful. He discovered a cocotree, beat down some of the fruit, broke them, and we drunk the milk and ate the nut with a satisfaction that protested against the ordinary food on the Nautilus.Excellent said Ned Land.Exquisite replied Conseil.'},\n",
              "  {'CHAPTER 21': \"CAPTAIN NEMO'S THUNDERBOLT\",\n",
              "   'content': 'We looked at the edge of the forest without rising, my hand stopping in the action of putting it to my mouth, Ned Lands completing its office.Stones do not fall from the sky, remarked Conseil, or they would merit the name aerolites.A second stone, carefully aimed, that made a savoury pigeons leg fall from Conseils hand, gave still more weight to his observation. We all three arose, shouldered our guns, and were ready to reply to any attack.Are they apes cried Ned Land.Very nearly they are savages.'},\n",
              "  {'CHAPTER 22': '\"AEGRI SOMNIA\"',\n",
              "   'content': 'The following day 10th January, the Nautilus continued her course between two seas, but with such remarkable speed that I could not estimate it at less than thirtyfive miles an hour. The rapidity of her screw was such that I could neither follow nor count its revolutions. When I reflected that this marvellous electric agent, after having afforded motion, heat, and light to the Nautilus, still protected her from outward attack, and transformed her into an ark of safety which no profane hand might touch without being thunderstricken, my admiration was unbounded, and from the structure it extended to the engineer who had called it into existence.Our course was directed to the west, and on the 11th of January we doubled Cape Wessel, situation in 135 long. and 10 S. lat., which forms the east point of the Gulf of Carpentaria. The reefs were still numerous, but more equalised, and marked on the chart with extreme precision. The Nautilus easily avoided the breakers of Money to port and the Victoria reefs to starboard, placed at 130 long. and on the 10th parallel, which we strictly followed.On the 13th of January, Captain Nemo arrived in the Sea of Timor, and recognised the island of that name in 122 long.From this point the direction of the Nautilus inclined towards the southwest. Her head was set for the Indian Ocean. Where would the fancy of Captain Nemo carry us next Would he return to the coast of Asia or would he approach again the shores of Europe Improbable conjectures both, to a man who fled from inhabited continents. Then would he descend to the south Was he going to double the Cape of Good Hope, then Cape Horn, and finally go as far as the Antarctic pole Would he come back at last to the Pacific, where his Nautilus could sail free and independently Time would show.After having skirted the sands of Cartier, of Hibernia, Seringapatam, and Scott, last efforts of the solid against the liquid element, on the 14th of January we lost sight of land altogether. The speed of the Nautilus was considerably abated, and with irregular course she sometimes swam in the bosom of the waters, sometimes floated on their surface.'},\n",
              "  {'CHAPTER 23': 'THE CORAL KINGDOM',\n",
              "   'content': 'The next day I woke with my head singularly clear. To my great surprise, I was in my own room. My companions, no doubt, had been reinstated in their cabin, without having perceived it any more than I. Of what had passed during the night they were as ignorant as I was, and to penetrate this mystery I only reckoned upon the chances of the future.I then thought of quitting my room. Was I free again or a prisoner Quite free. I opened the door, went to the halfdeck, went up the central stairs. The panels, shut the evening before, were open. I went on to the platform.Ned Land and Conseil waited there for me. I questioned them they knew nothing. Lost in a heavy sleep in which they had been totally unconscious, they had been astonished at finding themselves in their cabin.As for the Nautilus, it seemed quiet and mysterious as ever. It floated on the surface of the waves at a moderate pace. Nothing seemed changed on board.The second lieutenant then came on to the platform, and gave the usual order below.'},\n",
              "  {'CHAPTER 1': 'THE INDIAN OCEAN',\n",
              "   'content': 'We now come to the second part of our journey under the sea. The first ended with the moving scene in the coral cemetery which left such a deep impression on my mind. Thus, in the midst of this great sea, Captain Nemos life was passing, even to his grave, which he had prepared in one of its deepest abysses. There, not one of the oceans monsters could trouble the last sleep of the crew of the Nautilus, of those friends riveted to each other in death as in life. Nor any man, either, had added the Captain. Still the same fierce, implacable defiance towards human societyI could no longer content myself with the theory which satisfied Conseil.That worthy fellow persisted in seeing in the Commander of the Nautilus one of those unknown savants who return mankind contempt for indifference. For him, he was a misunderstood genius who, tired of earths deceptions, had taken refuge in this inaccessible medium, where he might follow his instincts freely. To my mind, this explains but one side of Captain Nemos character. Indeed, the mystery of that last night during which we had been chained in prison, the sleep, and the precaution so violently taken by the Captain of snatching from my eyes the glass I had raised to sweep the horizon, the mortal wound of the man, due to an unaccountable shock of the Nautilus, all put me on a new track. No Captain Nemo was not satisfied with shunning man. His formidable apparatus not only suited his instinct of freedom, but perhaps also the design of some terrible retaliation.At this moment nothing is clear to me I catch but a glimpse of light amidst all the darkness, and I must confine myself to writing as events shall dictate.That day, the 24th of January, 1868, at noon, the second officer came to take the altitude of the sun. I mounted the platform, lit a cigar, and watched the operation. It seemed to me that the man did not understand French for several times I made remarks in a loud voice, which must have drawn from him some involuntary sign of attention, if he had understood them but he remained undisturbed and dumb.'},\n",
              "  {'CHAPTER 2': \"A NOVEL PROPOSAL OF CAPTAIN NEMO'S\",\n",
              "   'content': 'On the 28th of February, when at noon the Nautilus came to the surface of the sea, in 9 4 N. lat., there was land in sight about eight miles to westward. The first thing I noticed was a range of mountains about two thousand feet high, the shapes of which were most capricious. On taking the bearings, I knew that we were nearing the island of Ceylon, the pearl which hangs from the lobe of the Indian Peninsula.Captain Nemo and his second appeared at this moment. The Captain glanced at the map. Then turning to me, saidThe Island of Ceylon, noted for its pearlfisheries. Would you like to visit one of them, M. AronnaxCertainly, Captain.Well, the thing is easy. Though, if we see the fisheries, we shall not see the fishermen. The annual exportation has not yet begun. Never mind, I will give orders to make for the Gulf of Manaar, where we shall arrive in the night.'},\n",
              "  {'CHAPTER 3': 'A PEARL OF TEN MILLIONS',\n",
              "   'content': 'The next morning at four oclock I was awakened by the steward whom Captain Nemo had placed at my service. I rose hurriedly, dressed, and went into the saloon.Captain Nemo was awaiting me.M. Aronnax, said he, are you ready to startI am ready.Then please to follow me.'},\n",
              "  {'CHAPTER 4': 'THE RED SEA',\n",
              "   'content': 'In the course of the day of the 29th of January, the island of Ceylon disappeared under the horizon, and the Nautilus, at a speed of twenty miles an hour, slid into the labyrinth of canals which separate the Maldives from the Laccadives. It coasted even the Island of Kiltan, a land originally coraline, discovered by Vasco da Gama in 1499, and one of the nineteen principal islands of the Laccadive Archipelago, situated between 10 and 14 30 N. lat., and 69 50 72 E. long.We had made 16,220 miles, or 7,500 French leagues from our startingpoint in the Japanese Seas.The next day 30th January, when the Nautilus went to the surface of the ocean there was no land in sight. Its course was N.N.E., in the direction of the Sea of Oman, between Arabia and the Indian Peninsula, which serves as an outlet to the Persian Gulf. It was evidently a block without any possible egress. Where was Captain Nemo taking us to I could not say. This, however, did not satisfy the Canadian, who that day came to me asking where we were going.We are going where our Captains fancy takes us, Master Ned.His fancy cannot take us far, then, said the Canadian. The Persian Gulf has no outlet and, if we do go in, it will not be long before we are out again.'},\n",
              "  {'CHAPTER 5': 'THE ARABIAN TUNNEL',\n",
              "   'content': 'That same evening, in 21 30 N. lat., the Nautilus floated on the surface of the sea, approaching the Arabian coast. I saw Djeddah, the most important countinghouse of Egypt, Syria, Turkey, and India. I distinguished clearly enough its buildings, the vessels anchored at the quays, and those whose draught of water obliged them to anchor in the roads. The sun, rather low on the horizon, struck full on the houses of the town, bringing out their whiteness. Outside, some wooden cabins, and some made of reeds, showed the quarter inhabited by the Bedouins. Soon Djeddah was shut out from view by the shadows of night, and the Nautilus found herself under water slightly phosphorescent.The next day, the 10th of February, we sighted several ships running to windward. The Nautilus returned to its submarine navigation but at noon, when her bearings were taken, the sea being deserted, she rose again to her waterline.Accompanied by Ned and Conseil, I seated myself on the platform. The coast on the eastern side looked like a mass faintly printed upon a damp fog.We were leaning on the sides of the pinnace, talking of one thing and another, when Ned Land, stretching out his hand towards a spot on the sea, saidDo you see anything there, sir'},\n",
              "  {'CHAPTER 6': 'THE GRECIAN ARCHIPELAGO',\n",
              "   'content': 'The next day, the 12th of February, at the dawn of day, the Nautilus rose to the surface. I hastened on to the platform. Three miles to the south the dim outline of Pelusium was to be seen. A torrent had carried us from one sea to another. About seven oclock Ned and Conseil joined me.Well, Sir Naturalist, said the Canadian, in a slightly jovial tone, and the MediterraneanWe are floating on its surface, friend Ned.What said Conseil, this very night.Yes, this very night in a few minutes we have passed this impassable isthmus.'},\n",
              "  {'CHAPTER 7': 'THE MEDITERRANEAN IN FORTY-EIGHT HOURS',\n",
              "   'content': 'The Mediterranean, the blue sea par excellence, the great sea of the Hebrews, the sea of the Greeks, the mare nostrum of the Romans, bordered by orangetrees, aloes, cacti, and seapines embalmed with the perfume of the myrtle, surrounded by rude mountains, saturated with pure and transparent air, but incessantly worked by underground fires a perfect battlefield in which Neptune and Pluto still dispute the empire of the worldIt is upon these banks, and on these waters, says Michelet, that man is renewed in one of the most powerful climates of the globe. But, beautiful as it was, I could only take a rapid glance at the basin whose superficial area is two million of square yards. Even Captain Nemos knowledge was lost to me, for this puzzling person did not appear once during our passage at full speed. I estimated the course which the Nautilus took under the waves of the sea at about six hundred leagues, and it was accomplished in fortyeight hours. Starting on the morning of the 16th of February from the shores of Greece, we had crossed the Straits of Gibraltar by sunrise on the 18th.It was plain to me that this Mediterranean, enclosed in the midst of those countries which he wished to avoid, was distasteful to Captain Nemo. Those waves and those breezes brought back too many remembrances, if not too many regrets. Here he had no longer that independence and that liberty of gait which he had when in the open seas, and his Nautilus felt itself cramped between the close shores of Africa and Europe.Our speed was now twentyfive miles an hour. It may be well understood that Ned Land, to his great disgust, was obliged to renounce his intended flight. He could not launch the pinnace, going at the rate of twelve or thirteen yards every second. To quit the Nautilus under such conditions would be as bad as jumping from a train going at full speed an imprudent thing, to say the least of it. Besides, our vessel only mounted to the surface of the waves at night to renew its stock of air it was steered entirely by the compass and the log.I saw no more of the interior of this Mediterranean than a traveller by express train perceives of the landscape which flies before his eyes that is to say, the distant horizon, and not the nearer objects which pass like a flash of lightning.'},\n",
              "  {'CHAPTER 8': 'VIGO BAY',\n",
              "   'content': 'The Atlantic a vast sheet of water whose superficial area covers twentyfive millions of square miles, the length of which is nine thousand miles, with a mean breadth of two thousand seven hundred an ocean whose parallel winding shores embrace an immense circumference, watered by the largest rivers of the world, the St. Lawrence, the Mississippi, the Amazon, the Plata, the Orinoco, the Niger, the Senegal, the Elbe, the Loire, and the Rhine, which carry water from the most civilised, as well as from the most savage, countries Magnificent field of water, incessantly ploughed by vessels of every nation, sheltered by the flags of every nation, and which terminates in those two terrible points so dreaded by mariners, Cape Horn and the Cape of Tempests.The Nautilus was piercing the water with its sharp spur, after having accomplished nearly ten thousand leagues in three months and a half, a distance greater than the great circle of the earth. Where were we going now, and what was reserved for the future The Nautilus, leaving the Straits of Gibraltar, had gone far out. It returned to the surface of the waves, and our daily walks on the platform were restored to us.I mounted at once, accompanied by Ned Land and Conseil. At a distance of about twelve miles, Cape St. Vincent was dimly to be seen, forming the southwestern point of the Spanish peninsula. A strong southerly gale was blowing. The sea was swollen and billowy it made the Nautilus rock violently. It was almost impossible to keep ones foot on the platform, which the heavy rolls of the sea beat over every instant. So we descended after inhaling some mouthfuls of fresh air.I returned to my room, Conseil to his cabin but the Canadian, with a preoccupied air, followed me. Our rapid passage across the Mediterranean had not allowed him to put his project into execution, and he could not help showing his disappointment. When the door of my room was shut, he sat down and looked at me silently.Friend Ned, said I, I understand you but you cannot reproach yourself. To have attempted to leave the Nautilus under the circumstances would have been folly.'},\n",
              "  {'CHAPTER 9': 'A VANISHED CONTINENT',\n",
              "   'content': 'The next morning, the 19th of February, I saw the Canadian enter my room. I expected this visit. He looked very disappointed.Well, sir said he.Well, Ned, fortune was against us yesterday.Yes that Captain must needs stop exactly at the hour we intended leaving his vessel.Yes, Ned, he had business at his bankers.'},\n",
              "  {'CHAPTER 10': 'THE SUBMARINE COAL-MINES',\n",
              "   'content': 'The next day, the 20th of February, I awoke very late the fatigues of the previous night had prolonged my sleep until eleven oclock. I dressed quickly, and hastened to find the course the Nautilus was taking. The instruments showed it to be still toward the south, with a speed of twenty miles an hour and a depth of fifty fathoms.The species of fishes here did not differ much from those already noticed. There were rays of giant size, five yards long, and endowed with great muscular strength, which enabled them to shoot above the waves sharks of many kinds amongst others, one fifteen feet long, with triangular sharp teeth, and whose transparency rendered it almost invisible in the water.Amongst bony fish Conseil noticed some about three yards long, armed at the upper jaw with a piercing sword other brightcoloured creatures, known in the time of Aristotle by the name of the seadragon, which are dangerous to capture on account of the spikes on their back.About four oclock, the soil, generally composed of a thick mud mixed with petrified wood, changed by degrees, and it became more stony, and seemed strewn with conglomerate and pieces of basalt, with a sprinkling of lava. I thought that a mountainous region was succeeding the long plains and accordingly, after a few evolutions of the Nautilus, I saw the southerly horizon blocked by a high wall which seemed to close all exit. Its summit evidently passed the level of the ocean. It must be a continent, or at least an island one of the Canaries, or of the Cape Verde Islands. The bearings not being yet taken, perhaps designedly, I was ignorant of our exact position. In any case, such a wall seemed to me to mark the limits of that Atlantis, of which we had in reality passed over only the smallest part.Much longer should I have remained at the window admiring the beauties of sea and sky, but the panels closed. At this moment the Nautilus arrived at the side of this high, perpendicular wall. What it would do, I could not guess. I returned to my room it no longer moved. I laid myself down with the full intention of waking after a few hours sleep but it was eight oclock the next day when I entered the saloon. I looked at the manometer. It told me that the Nautilus was floating on the surface of the ocean. Besides, I heard steps on the platform. I went to the panel. It was open but, instead of broad daylight, as I expected, I was surrounded by profound darkness. Where were we Was I mistaken Was it still night No not a star was shining and night has not that utter darkness.'},\n",
              "  {'CHAPTER 11': 'THE SARGASSO SEA',\n",
              "   'content': 'That day the Nautilus crossed a singular part of the Atlantic Ocean. No one can be ignorant of the existence of a current of warm water known by the name of the Gulf Stream. After leaving the Gulf of Florida, we went in the direction of Spitzbergen. But before entering the Gulf of Mexico, about 45 of N. lat., this current divides into two arms, the principal one going towards the coast of Ireland and Norway, whilst the second bends to the south about the height of the Azores then, touching the African shore, and describing a lengthened oval, returns to the Antilles. This second arm it is rather a collar than an arm surrounds with its circles of warm water that portion of the cold, quiet, immovable ocean called the Sargasso Sea, a perfect lake in the open Atlantic it takes no less than three years for the great current to pass round it. Such was the region the Nautilus was now visiting, a perfect meadow, a close carpet of seaweed, fucus, and tropical berries, so thick and so compact that the stem of a vessel could hardly tear its way through it. And Captain Nemo, not wishing to entangle his screw in this herbaceous mass, kept some yards beneath the surface of the waves. The name Sargasso comes from the Spanish word sargazzo which signifies kelp. This kelp, or berryplant, is the principal formation of this immense bank. And this is the reason why these plants unite in the peaceful basin of the Atlantic. The only explanation which can be given, he says, seems to me to result from the experience known to all the world. Place in a vase some fragments of cork or other floating body, and give to the water in the vase a circular movement, the scattered fragments will unite in a group in the centre of the liquid surface, that is to say, in the part least agitated. In the phenomenon we are considering, the Atlantic is the vase, the Gulf Stream the circular current, and the Sargasso Sea the central point at which the floating bodies unite.I share Maurys opinion, and I was able to study the phenomenon in the very midst, where vessels rarely penetrate. Above us floated products of all kinds, heaped up among these brownish plants trunks of trees torn from the Andes or the Rocky Mountains, and floated by the Amazon or the Mississippi numerous wrecks, remains of keels, or ships bottoms, sideplanks stove in, and so weighted with shells and barnacles that they could not again rise to the surface. And time will one day justify Maurys other opinion, that these substances thus accumulated for ages will become petrified by the action of the water and will then form inexhaustible coalmines a precious reserve prepared by farseeing Nature for the moment when men shall have exhausted the mines of continents.In the midst of this inextricable mass of plants and sea weed, I noticed some charming pink halcyons and actiniae, with their long tentacles trailing after them, and medusae, green, red, and blue.All the day of the 22nd of February we passed in the Sargasso Sea, where such fish as are partial to marine plants find abundant nourishment. The next, the ocean had returned to its accustomed aspect. From this time for nineteen days, from the 23rd of February to the 12th of March, the Nautilus kept in the middle of the Atlantic, carrying us at a constant speed of a hundred leagues in twentyfour hours. Captain Nemo evidently intended accomplishing his submarine programme, and I imagined that he intended, after doubling Cape Horn, to return to the Australian seas of the Pacific. Ned Land had cause for fear. In these large seas, void of islands, we could not attempt to leave the boat. Nor had we any means of opposing Captain Nemos will. Our only course was to submit but what we could neither gain by force nor cunning, I liked to think might be obtained by persuasion. This voyage ended, would he not consent to restore our liberty, under an oath never to reveal his existence an oath of honour which we should have religiously kept. But we must consider that delicate question with the Captain. But was I free to claim this liberty Had he not himself said from the beginning, in the firmest manner, that the secret of his life exacted from him our lasting imprisonment on board the Nautilus And would not my four months silence appear to him a tacit acceptance of our situation And would not a return to the subject result in raising suspicions which might be hurtful to our projects, if at some future time a favourable opportunity offered to return to themDuring the nineteen days mentioned above, no incident of any kind happened to signalise our voyage. I saw little of the Captain he was at work. In the library I often found his books left open, especially those on natural history. My work on submarine depths, conned over by him, was covered with marginal notes, often contradicting my theories and systems but the Captain contented himself with thus purging my work it was very rare for him to discuss it with me. Sometimes I heard the melancholy tones of his organ but only at night, in the midst of the deepest obscurity, when the Nautilus slept upon the deserted ocean. During this part of our voyage we sailed whole days on the surface of the waves. The sea seemed abandoned. A few sailingvessels, on the road to India, were making for the Cape of Good Hope. One day we were followed by the boats of a whaler, who, no doubt, took us for some enormous whale of great price but Captain Nemo did not wish the worthy fellows to lose their time and trouble, so ended the chase by plunging under the water. Our navigation continued until the 13th of March that day the Nautilus was employed in taking soundings, which greatly interested me. We had then made about 13,000 leagues since our departure from the high seas of the Pacific. The bearings gave us 45 37 S. lat., and 37 53 W. long. It was the same water in which Captain Denham of the Herald sounded 7,000 fathoms without finding the bottom. There, too, Lieutenant Parker, of the American frigate Congress, could not touch the bottom with 15,140 fathoms. Captain Nemo intended seeking the bottom of the ocean by a diagonal sufficiently lengthened by means of lateral planes placed at an angle of 45 with the waterline of the Nautilus. Then the screw set to work at its maximum speed, its four blades beating the waves with in describable force. Under this powerful pressure, the hull of the Nautilus quivered like a sonorous chord and sank regularly under the water.'},\n",
              "  {'CHAPTER 12': 'CACHALOTS AND WHALES',\n",
              "   'content': 'During the nights of the 13th and 14th of March, the Nautilus returned to its southerly course. I fancied that, when on a level with Cape Horn, he would turn the helm westward, in order to beat the Pacific seas, and so complete the tour of the world. He did nothing of the kind, but continued on his way to the southern regions. Where was he going to To the pole It was madness I began to think that the Captains temerity justified Ned Lands fears. For some time past the Canadian had not spoken to me of his projects of flight he was less communicative, almost silent. I could see that this lengthened imprisonment was weighing upon him, and I felt that rage was burning within him. When he met the Captain, his eyes lit up with suppressed anger and I feared that his natural violence would lead him into some extreme. That day, the 14th of March, Conseil and he came to me in my room. I inquired the cause of their visit.A simple question to ask you, sir, replied the Canadian.Speak, Ned.How many men are there on board the Nautilus, do you thinkI cannot tell, my friend.'},\n",
              "  {'CHAPTER 13': 'THE ICEBERG',\n",
              "   'content': 'The Nautilus was steadily pursuing its southerly course, following the fiftieth meridian with considerable speed. Did he wish to reach the pole I did not think so, for every attempt to reach that point had hitherto failed. Again, the season was far advanced, for in the Antarctic regions the 13th of March corresponds with the 13th of September of northern regions, which begin at the equinoctial season. On the 14th of March I saw floating ice in latitude 55, merely pale bits of debris from twenty to twentyfive feet long, forming banks over which the sea curled. The Nautilus remained on the surface of the ocean. Ned Land, who had fished in the Arctic Seas, was familiar with its icebergs but Conseil and I admired them for the first time. In the atmosphere towards the southern horizon stretched a white dazzling band. English whalers have given it the name of ice blink. However thick the clouds may be, it is always visible, and announces the presence of an ice pack or bank. Accordingly, larger blocks soon appeared, whose brilliancy changed with the caprices of the fog. Some of these masses showed green veins, as if long undulating lines had been traced with sulphate of copper others resembled enormous amethysts with the light shining through them. Some reflected the light of day upon a thousand crystal facets. Others shaded with vivid calcareous reflections resembled a perfect town of marble. The more we neared the south the more these floating islands increased both in number and importance.At 60 lat. every pass had disappeared. But, seeking carefully, Captain Nemo soon found a narrow opening, through which he boldly slipped, knowing, however, that it would close behind him. Thus, guided by this clever hand, the Nautilus passed through all the ice with a precision which quite charmed Conseil icebergs or mountains, icefields or smooth plains, seeming to have no limits, driftice or floating icepacks, plains broken up, called palchs when they are circular, and streams when they are made up of long strips. The temperature was very low the thermometer exposed to the air marked 2 deg. or 3 below zero, but we were warmly clad with fur, at the expense of the seabear and seal. The interior of the Nautilus, warmed regularly by its electric apparatus, defied the most intense cold. Besides, it would only have been necessary to go some yards beneath the waves to find a more bearable temperature. Two months earlier we should have had perpetual daylight in these latitudes but already we had had three or four hours of night, and by and by there would be six months of darkness in these circumpolar regions. On the 15th of March we were in the latitude of New Shetland and South Orkney. The Captain told me that formerly numerous tribes of seals inhabited them but that English and American whalers, in their rage for destruction, massacred both old and young thus, where there was once life and animation, they had left silence and death.About eight oclock on the morning of the 16th of March the Nautilus, following the fiftyfifth meridian, cut the Antarctic polar circle. Ice surrounded us on all sides, and closed the horizon. But Captain Nemo went from one opening to another, still going higher. I cannot express my astonishment at the beauties of these new regions. The ice took most surprising forms. Here the grouping formed an oriental town, with innumerable mosques and minarets there a fallen city thrown to the earth, as it were, by some convulsion of nature. The whole aspect was constantly changed by the oblique rays of the sun, or lost in the greyish fog amidst hurricanes of snow. Detonations and falls were heard on all sides, great overthrows of icebergs, which altered the whole landscape like a diorama. Often seeing no exit, I thought we were definitely prisoners but, instinct guiding him at the slightest indication, Captain Nemo would discover a new pass. He was never mistaken when he saw the thin threads of bluish water trickling along the icefields and I had no doubt that he had already ventured into the midst of these Antarctic seas before. On the 16th of March, however, the icefields absolutely blocked our road. It was not the iceberg itself, as yet, but vast fields cemented by the cold. But this obstacle could not stop Captain Nemo he hurled himself against it with frightful violence. The Nautilus entered the brittle mass like a wedge, and split it with frightful crackings. It was the battering ram of the ancients hurled by infinite strength. The ice, thrown high in the air, fell like hail around us. By its own power of impulsion our apparatus made a canal for itself some times carried away by its own impetus, it lodged on the icefield, crushing it with its weight, and sometimes buried beneath it, dividing it by a simple pitching movement, producing large rents in it. Violent gales assailed us at this time, accompanied by thick fogs, through which, from one end of the platform to the other, we could see nothing. The wind blew sharply from all parts of the compass, and the snow lay in such hard heaps that we had to break it with blows of a pickaxe. The temperature was always at 5 deg. below zero every outward part of the Nautilus was covered with ice. A rigged vessel would have been entangled in the blocked up gorges. A vessel without sails, with electricity for its motive power, and wanting no coal, could alone brave such high latitudes. At length, on the 18th of March, after many useless assaults, the Nautilus was positively blocked. It was no longer either streams, packs, or icefields, but an interminable and immovable barrier, formed by mountains soldered together.An iceberg said the Canadian to me.I knew that to Ned Land, as well as to all other navigators who had preceded us, this was an inevitable obstacle. The sun appearing for an instant at noon, Captain Nemo took an observation as near as possible, which gave our situation at 51 30 long. and 67 39 of S. lat. We had advanced one degree more in this Antarctic region. Of the liquid surface of the sea there was no longer a glimpse. Under the spur of the Nautilus lay stretched a vast plain, entangled with confused blocks. Here and there sharp points and slender needles rising to a height of 200 feet further on a steep shore, hewn as it were with an axe and clothed with greyish tints huge mirrors, reflecting a few rays of sunshine, half drowned in the fog. And over this desolate face of nature a stern silence reigned, scarcely broken by the flapping of the wings of petrels and puffins. Everything was frozen even the noise. The Nautilus was then obliged to stop in its adventurous course amid these fields of ice. In spite of our efforts, in spite of the powerful means employed to break up the ice, the Nautilus remained immovable. Generally, when we can proceed no further, we have return still open to us but here return was as impossible as advance, for every pass had closed behind us and for the few moments when we were stationary, we were likely to be entirely blocked, which did indeed happen about two oclock in the afternoon, the fresh ice forming around its sides with astonishing rapidity. I was obliged to admit that Captain Nemo was more than imprudent. I was on the platform at that moment. The Captain had been observing our situation for some time past, when he said to me'},\n",
              "  {'CHAPTER 14': 'THE SOUTH POLE',\n",
              "   'content': 'I rushed on to the platform. Yes the open sea, with but a few scattered pieces of ice and moving icebergs a long stretch of sea a world of birds in the air, and myriads of fishes under those waters, which varied from intense blue to olive green, according to the bottom. The thermometer marked 3 C. above zero. It was comparatively spring, shut up as we were behind this iceberg, whose lengthened mass was dimly seen on our northern horizon.Are we at the pole I asked the Captain, with a beating heart.I do not know, he replied. At noon I will take our bearings.But will the sun show himself through this fog said I, looking at the leaden sky.However little it shows, it will be enough, replied the Captain.'},\n",
              "  {'CHAPTER 15': 'ACCIDENT OR INCIDENT?',\n",
              "   'content': 'The next day, the 22nd of March, at six in the morning, preparations for departure were begun. The last gleams of twilight were melting into night. The cold was great, the constellations shone with wonderful intensity. In the zenith glittered that wondrous Southern Cross the polar bear of Antarctic regions. The thermometer showed 120 below zero, and when the wind freshened it was most biting. Flakes of ice increased on the open water. The sea seemed everywhere alike. Numerous blackish patches spread on the surface, showing the formation of fresh ice. Evidently the southern basin, frozen during the six winter months, was absolutely inaccessible. What became of the whales in that time Doubtless they went beneath the icebergs, seeking more practicable seas. As to the seals and morses, accustomed to live in a hard climate, they remained on these icy shores. These creatures have the instinct to break holes in the icefield and to keep them open. To these holes they come for breath when the birds, driven away by the cold, have emigrated to the north, these sea mammals remain sole masters of the polar continent. But the reservoirs were filling with water, and the Nautilus was slowly descending. At 1,000 feet deep it stopped its screw beat the waves, and it advanced straight towards the north at a speed of fifteen miles an hour. Towards night it was already floating under the immense body of the iceberg. At three in the morning I was awakened by a violent shock. I sat up in my bed and listened in the darkness, when I was thrown into the middle of the room. The Nautilus, after having struck, had rebounded violently. I groped along the partition, and by the staircase to the saloon, which was lit by the luminous ceiling. The furniture was upset. Fortunately the windows were firmly set, and had held fast. The pictures on the starboard side, from being no longer vertical, were clinging to the paper, whilst those of the port side were hanging at least a foot from the wall. The Nautilus was lying on its starboard side perfectly motionless. I heard footsteps, and a confusion of voices but Captain Nemo did not appear. As I was leaving the saloon, Ned Land and Conseil entered.What is the matter said I, at once.I came to ask you, sir, replied Conseil.Confound it exclaimed the Canadian, I know well enough The Nautilus has struck and, judging by the way she lies, I do not think she will right herself as she did the first time in Torres Straits.But, I asked, has she at least come to the surface of the sea'},\n",
              "  {'CHAPTER 16': 'WANT OF AIR',\n",
              "   'content': 'Thus around the Nautilus, above and below, was an impenetrable wall of ice. We were prisoners to the iceberg. I watched the Captain. His countenance had resumed its habitual imperturbability.Gentlemen, he said calmly, there are two ways of dying in the circumstances in which we are placed. This puzzling person had the air of a mathematical professor lecturing to his pupils. The first is to be crushed the second is to die of suffocation. I do not speak of the possibility of dying of hunger, for the supply of provisions in the Nautilus will certainly last longer than we shall. Let us, then, calculate our chances.As to suffocation, Captain, I replied, that is not to be feared, because our reservoirs are full.Just so but they will only yield two days supply of air. Now, for thirtysix hours we have been hidden under the water, and already the heavy atmosphere of the Nautilus requires renewal. In fortyeight hours our reserve will be exhausted.Well, Captain, can we be delivered before fortyeight hours'},\n",
              "  {'CHAPTER 17': 'FROM CAPE HORN TO THE AMAZON',\n",
              "   'content': 'How I got on to the platform, I have no idea perhaps the Canadian had carried me there. But I breathed, I inhaled the vivifying seaair. My two companions were getting drunk with the fresh particles. The other unhappy men had been so long without food, that they could not with impunity indulge in the simplest aliments that were given them. We, on the contrary, had no end to restrain ourselves we could draw this air freely into our lungs, and it was the breeze, the breeze alone, that filled us with this keen enjoyment.Ah said Conseil, how delightful this oxygen is Master need not fear to breathe it. There is enough for everybody.Ned Land did not speak, but he opened his jaws wide enough to frighten a shark. Our strength soon returned, and, when I looked round me, I saw we were alone on the platform. The foreign seamen in the Nautilus were contented with the air that circulated in the interior none of them had come to drink in the open air.The first words I spoke were words of gratitude and thankfulness to my two companions. Ned and Conseil had prolonged my life during the last hours of this long agony. All my gratitude could not repay such devotion.My friends, said I, we are bound one to the other for ever, and I am under infinite obligations to you.'},\n",
              "  {'CHAPTER 18': 'THE POULPS',\n",
              "   'content': 'For several days the Nautilus kept off from the American coast. Evidently it did not wish to risk the tides of the Gulf of Mexico or of the sea of the Antilles. April 16th, we sighted Martinique and Guadaloupe from a distance of about thirty miles. I saw their tall peaks for an instant. The Canadian, who counted on carrying out his projects in the Gulf, by either landing or hailing one of the numerous boats that coast from one island to another, was quite disheartened. Flight would have been quite practicable, if Ned Land had been able to take possession of the boat without the Captains knowledge. But in the open sea it could not be thought of. The Canadian, Conseil, and I had a long conversation on this subject. For six months we had been prisoners on board the Nautilus. We had travelled 17,000 leagues and, as Ned Land said, there was no reason why it should come to an end. We could hope nothing from the Captain of the Nautilus, but only from ourselves. Besides, for some time past he had become graver, more retired, less sociable. He seemed to shun me. I met him rarely. Formerly he was pleased to explain the submarine marvels to me now he left me to my studies, and came no more to the saloon. What change had come over him For what cause For my part, I did not wish to bury with me my curious and novel studies. I had now the power to write the true book of the sea and this book, sooner or later, I wished to see daylight. The land nearest us was the archipelago of the Bahamas. There rose high submarine cliffs covered with large weeds. It was about eleven oclock when Ned Land drew my attention to a formidable pricking, like the sting of an ant, which was produced by means of large seaweeds.Well, I said, these are proper caverns for poulps, and I should not be astonished to see some of these monsters.What said Conseil cuttlefish, real cuttlefish of the cephalopod classNo, I said, poulps of huge dimensions.I will never believe that such animals exist, said Ned.'},\n",
              "  {'CHAPTER 19': 'THE GULF STREAM',\n",
              "   'content': 'This terrible scene of the 20th of April none of us can ever forget. I have written it under the influence of violent emotion. Since then I have revised the recital I have read it to Conseil and to the Canadian. They found it exact as to facts, but insufficient as to effect. To paint such pictures, one must have the pen of the most illustrious of our poets, the author of The Toilers of the Deep.I have said that Captain Nemo wept while watching the waves his grief was great. It was the second companion he had lost since our arrival on board, and what a death That friend, crushed, stifled, bruised by the dreadful arms of a poulp, pounded by his iron jaws, would not rest with his comrades in the peaceful coral cemetery In the midst of the struggle, it was the despairing cry uttered by the unfortunate man that had torn my heart. The poor Frenchman, forgetting his conventional language, had taken to his own mother tongue, to utter a last appeal Amongst the crew of the Nautilus, associated with the body and soul of the Captain, recoiling like him from all contact with men, I had a fellowcountryman. Did he alone represent France in this mysterious association, evidently composed of individuals of divers nationalities It was one of these insoluble problems that rose up unceasingly before my mindCaptain Nemo entered his room, and I saw him no more for some time. But that he was sad and irresolute I could see by the vessel, of which he was the soul, and which received all his impressions. The Nautilus did not keep on in its settled course it floated about like a corpse at the will of the waves. It went at random. He could not tear himself away from the scene of the last struggle, from this sea that had devoured one of his men. Ten days passed thus. It was not till the 1st of May that the Nautilus resumed its northerly course, after having sighted the Bahamas at the mouth of the Bahama Canal. We were then following the current from the largest river to the sea, that has its banks, its fish, and its proper temperatures. I mean the Gulf Stream. It is really a river, that flows freely to the middle of the Atlantic, and whose waters do not mix with the ocean waters. It is a salt river, salter than the surrounding sea. Its mean depth is 1,500 fathoms, its mean breadth ten miles. In certain places the current flows with the speed of two miles and a half an hour. The body of its waters is more considerable than that of all the rivers in the globe. It was on this ocean river that the Nautilus then sailed.I must add that, during the night, the phosphorescent waters of the Gulf Stream rivalled the electric power of our watchlight, especially in the stormy weather that threatened us so frequently. May 8th, we were still crossing Cape Hatteras, at the height of the North Caroline. The width of the Gulf Stream there is seventyfive miles, and its depth 210 yards. The Nautilus still went at random all supervision seemed abandoned. I thought that, under these circumstances, escape would be possible. Indeed, the inhabited shores offered anywhere an easy refuge. The sea was incessantly ploughed by the steamers that ply between New York or Boston and the Gulf of Mexico, and overrun day and night by the little schooners coasting about the several parts of the American coast. We could hope to be picked up. It was a favourable opportunity, notwithstanding the thirty miles that separated the Nautilus from the coasts of the Union. One unfortunate circumstance thwarted the Canadians plans. The weather was very bad. We were nearing those shores where tempests are so frequent, that country of waterspouts and cyclones actually engendered by the current of the Gulf Stream. To tempt the sea in a frail boat was certain destruction. Ned Land owned this himself. He fretted, seized with nostalgia that flight only could cure.Master, he said that day to me, this must come to an end. I must make a clean breast of it. This Nemo is leaving land and going up to the north. But I declare to you that I have had enough of the South Pole, and I will not follow him to the North.'},\n",
              "  {'CHAPTER 20': \"FROM LATITUDE 47° 24' TO LONGITUDE 17° 28'\",\n",
              "   'content': 'In consequence of the storm, we had been thrown eastward once more. All hope of escape on the shores of New York or St. Lawrence had faded away and poor Ned, in despair, had isolated himself like Captain Nemo. Conseil and I, however, never left each other. I said that the Nautilus had gone aside to the east. I should have said to be more exact the northeast. For some days, it wandered first on the surface, and then beneath it, amid those fogs so dreaded by sailors. What accidents are due to these thick fogs What shocks upon these reefs when the wind drowns the breaking of the waves What collisions between vessels, in spite of their warning lights, whistles, and alarm bells And the bottoms of these seas look like a field of battle, where still lie all the conquered of the ocean some old and already encrusted, others fresh and reflecting from their iron bands and copper plates the brilliancy of our lantern.On the 15th of May we were at the extreme south of the Bank of Newfoundland. This bank consists of alluvia, or large heaps of organic matter, brought either from the Equator by the Gulf Stream, or from the North Pole by the countercurrent of cold water which skirts the American coast. There also are heaped up those erratic blocks which are carried along by the broken ice and close by, a vast charnelhouse of molluscs, which perish here by millions. The depth of the sea is not great at Newfoundland not more than some hundreds of fathoms but towards the south is a depression of 1,500 fathoms. There the Gulf Stream widens. It loses some of its speed and some of its temperature, but it becomes a sea.It was on the 17th of May, about 500 miles from Hearts Content, at a depth of more than 1,400 fathoms, that I saw the electric cable lying on the bottom. Conseil, to whom I had not mentioned it, thought at first that it was a gigantic seaserpent. But I undeceived the worthy fellow, and by way of consolation related several particulars in the laying of this cable. The first one was laid in the years 1857 and 1858 but, after transmitting about 400 telegrams, would not act any longer. In 1863 the engineers constructed an other one, measuring 2,000 miles in length, and weighing 4,500 tons, which was embarked on the Great Eastern. This attempt also failed.On the 25th of May the Nautilus, being at a depth of more than 1,918 fathoms, was on the precise spot where the rupture occurred which ruined the enterprise. It was within 638 miles of the coast of Ireland and at halfpast two in the afternoon they discovered that communication with Europe had ceased. The electricians on board resolved to cut the cable before fishing it up, and at eleven oclock at night they had recovered the damaged part. They made another point and spliced it, and it was once more submerged. But some days after it broke again, and in the depths of the ocean could not be recaptured. The Americans, however, were not discouraged. Cyrus Field, the bold promoter of the enterprise, as he had sunk all his own fortune, set a new subscription on foot, which was at once answered, and another cable was constructed on better principles. The bundles of conducting wires were each enveloped in guttapercha, and protected by a wadding of hemp, contained in a metallic covering. The Great Eastern sailed on the 13th of July, 1866. The operation worked well. But one incident occurred. Several times in unrolling the cable they observed that nails had recently been forced into it, evidently with the motive of destroying it. Captain Anderson, the officers, and engineers consulted together, and had it posted up that, if the offender was surprised on board, he would be thrown without further trial into the sea. From that time the criminal attempt was never repeated.On the 23rd of July the Great Eastern was not more than 500 miles from Newfoundland, when they telegraphed from Ireland the news of the armistice concluded between Prussia and Austria after Sadowa. On the 27th, in the midst of heavy fogs, they reached the port of Hearts Content. The enterprise was successfully terminated and for its first despatch, young America addressed old Europe in these words of wisdom, so rarely understood Glory to God in the highest, and on earth peace, goodwill towards men.'},\n",
              "  {'CHAPTER 21': 'A HECATOMB',\n",
              "   'content': 'The way of describing this unlookedfor scene, the history of the patriot ship, told at first so coldly, and the emotion with which this strange man pronounced the last words, the name of the Avenger, the significance of which could not escape me, all impressed itself deeply on my mind. My eyes did not leave the Captain, who, with his hand stretched out to sea, was watching with a glowing eye the glorious wreck. Perhaps I was never to know who he was, from whence he came, or where he was going to, but I saw the man move, and apart from the savant. It was no common misanthropy which had shut Captain Nemo and his companions within the Nautilus, but a hatred, either monstrous or sublime, which time could never weaken. Did this hatred still seek for vengeance The future would soon teach me that. But the Nautilus was rising slowly to the surface of the sea, and the form of the Avenger disappeared by degrees from my sight. Soon a slight rolling told me that we were in the open air. At that moment a dull boom was heard. I looked at the Captain. He did not move.Captain said I.He did not answer. I left him and mounted the platform. Conseil and the Canadian were already there.Where did that sound come from I asked.It was a gunshot, replied Ned Land.'},\n",
              "  {'CHAPTER 22': 'THE LAST WORDS OF CAPTAIN NEMO',\n",
              "   'content': 'The panels had closed on this dreadful vision, but light had not returned to the saloon all was silence and darkness within the Nautilus. At wonderful speed, a hundred feet beneath the water, it was leaving this desolate spot. Whither was it going To the north or south Where was the man flying to after such dreadful retaliation I had returned to my room, where Ned and Conseil had remained silent enough. I felt an insurmountable horror for Captain Nemo. Whatever he had suffered at the hands of these men, he had no right to punish thus. He had made me, if not an accomplice, at least a witness of his vengeance. At eleven the electric light reappeared. I passed into the saloon. It was deserted. I consulted the different instruments. The Nautilus was flying northward at the rate of twentyfive miles an hour, now on the surface, and now thirty feet below it. On taking the bearings by the chart, I saw that we were passing the mouth of the Manche, and that our course was hurrying us towards the northern seas at a frightful speed. That night we had crossed two hundred leagues of the Atlantic. The shadows fell, and the sea was covered with darkness until the rising of the moon. I went to my room, but could not sleep. I was troubled with dreadful nightmare. The horrible scene of destruction was continually before my eyes. From that day, who could tell into what part of the North Atlantic basin the Nautilus would take us Still with unaccountable speed. Still in the midst of these northern fogs. Would it touch at Spitzbergen, or on the shores of Nova Zembla Should we explore those unknown seas, the White Sea, the Sea of Kara, the Gulf of Obi, the Archipelago of Liarrov, and the unknown coast of Asia I could not say. I could no longer judge of the time that was passing. The clocks had been stopped on board. It seemed, as in polar countries, that night and day no longer followed their regular course. I felt myself being drawn into that strange region where the foundered imagination of Edgar Poe roamed at will. Like the fabulous Gordon Pym, at every moment I expected to see that veiled human figure, of larger proportions than those of any inhabitant of the earth, thrown across the cataract which defends the approach to the pole. I estimated though, perhaps, I may be mistaken I estimated this adventurous course of the Nautilus to have lasted fifteen or twenty days. And I know not how much longer it might have lasted, had it not been for the catastrophe which ended this voyage. Of Captain Nemo I saw nothing whatever now, nor of his second. Not a man of the crew was visible for an instant. The Nautilus was almost incessantly under water. When we came to the surface to renew the air, the panels opened and shut mechanically. There were no more marks on the planisphere. I knew not where we were. And the Canadian, too, his strength and patience at an end, appeared no more. Conseil could not draw a word from him and, fearing that, in a dreadful fit of madness, he might kill himself, watched him with constant devotion. One morning what date it was I could not say I had fallen into a heavy sleep towards the early hours, a sleep both painful and unhealthy, when I suddenly awoke. Ned Land was leaning over me, saying, in a low voice, We are going to fly. I sat up.When shall we go I asked.Tonight. All inspection on board the Nautilus seems to have ceased. All appear to be stupefied. You will be ready, sirYes where are weIn sight of land. I took the reckoning this morning in the fog twenty miles to the east.'},\n",
              "  {'CHAPTER 23': 'CONCLUSION',\n",
              "   'content': 'Thus ends the voyage under the seas. What passed during that night how the boat escaped from the eddies of the maelstrom how Ned Land, Conseil, and myself ever came out of the gulf, I cannot tell.But when I returned to consciousness, I was lying in a fishermans hut, on the Loffoden Isles. My two companions, safe and sound, were near me holding my hands. We embraced each other heartily.At that moment we could not think of returning to France. The means of communication between the north of Norway and the south are rare. And I am therefore obliged to wait for the steamboat running monthly from Cape North.And, among the worthy people who have so kindly received us, I revise my record of these adventures once more. Not a fact has been omitted, not a detail exaggerated. It is a faithful narrative of this incredible expedition in an element inaccessible to man, but to which Progress will one day open a road.Shall I be believed I do not know. And it matters little, after all. What I now affirm is, that I have a right to speak of these seas, under which, in less than ten months, I have crossed 20,000 leagues in that submarine tour of the world, which has revealed so many wonders.'}]}"
            ]
          },
          "metadata": {},
          "execution_count": 156
        }
      ],
      "source": [
        "# Extracting text data from the book\n",
        "headers_3 = soup_data.find_all(\"h3\")\n",
        "list_chap = []\n",
        "for ele in headers_3:\n",
        "    # print(ele)\n",
        "    chap_dict = {}\n",
        "    if \"CHAPTER\" in ele.text:\n",
        "        chap_num  = romanToInt(str(ele.text.split()[1])) # storing chapter number\n",
        "        chap_name = (ele.find_next(\"h3\")).text.strip() # strong chapter name\n",
        "        chap_dict['CHAPTER '+ str(chap_num)] = chap_name # generating key for the dictionary\n",
        "        paras = ele.find_all_next('p',limit =5) #storing first 5 paragrahs of each chapter\n",
        "        paras =  [\" \".join(ele.get_text().split()) for ele in paras]\n",
        "        paras = [ele.replace(\"—\",\" \") for ele in paras] # replacing the special character \"—\" with space \" \".\n",
        "        chap_text = \"\".join(paras)\n",
        "        chap_text = re.sub(\"[^a-zA-Z0-9., ]\",\"\",chap_text)\n",
        "        chap_dict['content'] = chap_text\n",
        "        list_chap.append(chap_dict)\n",
        "book = {book_title:list_chap}\n",
        "# Final parent dictionary storing the book title as the key and values as a list of dictionaries, each pertaining to one chapter and its contents.\n",
        "book"
      ]
    },
    {
      "cell_type": "markdown",
      "source": [
        "#5. Creating Poetry from the chapter text, using 5-7-5 syllable pattern"
      ],
      "metadata": {
        "id": "ww4HvbKESOad"
      },
      "id": "ww4HvbKESOad"
    },
    {
      "cell_type": "code",
      "source": [
        "# Gathering all the content present in the scrapped data\n",
        "text = \"\"\n",
        "for ele in list_chap:\n",
        "    # print(ele['content'])\n",
        "    text+=ele['content']\n",
        "    # text.append(ele['content'].split(\".\"))\n",
        "    text = re.sub(\"[;]\",\",\",text)\n",
        "    text = re.sub(\"[^a-zA-Z0-9.,]\",\" \",text)\n",
        "text = text.split(\".\")\n",
        "text[:10]"
      ],
      "metadata": {
        "colab": {
          "base_uri": "https://localhost:8080/"
        },
        "id": "ZX3vYMrMC3w6",
        "outputId": "810e2b35-f2d3-4b68-8f75-14680de5bf29"
      },
      "id": "ZX3vYMrMC3w6",
      "execution_count": 152,
      "outputs": [
        {
          "output_type": "execute_result",
          "data": {
            "text/plain": [
              "['The year 1866 was signalised by a remarkable incident, a mysterious and puzzling phenomenon, which doubtless no one has yet forgotten',\n",
              " ' Not to mention rumours which agitated the maritime population and excited the public mind, even in the interior of continents, seafaring men were particularly excited',\n",
              " ' Merchants, common sailors, captains of vessels, skippers, both of Europe and America, naval officers of all countries, and the Governments of several States on the two continents, were deeply interested in the matter',\n",
              " 'For some time past vessels had been met by an enormous thing, a long object, spindleshaped, occasionally phosphorescent, and infinitely larger and more rapid in its movements than a whale',\n",
              " 'The facts relating to this apparition entered in various logbooks agreed in most respects as to the shape of the object or creature in question, the untiring rapidity of its movements, its surprising power of locomotion, and the peculiar life with which it seemed endowed',\n",
              " ' If it was a whale, it surpassed in size all those hitherto classified in science',\n",
              " ' Taking into consideration the mean of observations made at divers times rejecting the timid estimate of those who assigned to this object a length of two hundred feet, equally with the exaggerated opinions which set it down as a mile in width and three in length we might fairly conclude that this mysterious being surpassed greatly all dimensions admitted by the learned ones of the day, if it existed at all',\n",
              " ' And that it DID exist was an undeniable fact and, with that tendency which disposes the human mind in favour of the marvellous, we can understand the excitement produced in the entire world by this supernatural apparition',\n",
              " ' As to classing it in the list of fables, the idea was out of the question',\n",
              " 'On the 20th of July, 1866, the steamer Governor Higginson, of the Calcutta and Burnach Steam Navigation Company, had met this moving mass five miles off the east coast of Australia']"
            ]
          },
          "metadata": {},
          "execution_count": 152
        }
      ]
    },
    {
      "cell_type": "markdown",
      "source": [
        "1) Here we use the spacy library to identify 2-word, 3-word and 4-word pattern in chapter content. Using the matcher module from spacy we identify phrases.\n",
        "Each word in the phrase extracting using the pos tagging technique od spacy.\n",
        "\n",
        "2) In the second part of the function we use the syllapy package to identify syllable count of each pharse. Considering the 5-7-5 pattern, we consider three line poetry with 1st line having 5 syllables, 2nd line having 7 syllables and the 3rd line again having 5 syllables. This we only consider the phrases with 5 and 7 syllable count."
      ],
      "metadata": {
        "id": "vbogkHCyRkF1"
      },
      "id": "vbogkHCyRkF1"
    },
    {
      "cell_type": "code",
      "source": [
        "# Creating poetry from the book text\n",
        "import spacy\n",
        "from spacy.matcher import Matcher\n",
        "nlp = spacy.load(\"en_core_web_sm\")\n",
        "matcher = Matcher(nlp.vocab)\n",
        "def phrase_gen(text):\n",
        "  \"\"\"\n",
        "  Function to generate two, three and four word phrases\n",
        "  \"\"\"\n",
        "  # 2-word pattern\n",
        "  matcher2word = Matcher(nlp.vocab)\n",
        "  pattern = [{\"POS\":{\"IN\": [\"NOUN\", \"ADV\", \"ADJ\", \"ADP\"]}},\n",
        "           {\"POS\":{\"IN\": [\"VERB\", \"NOUN\"]}}]\n",
        "  matcher2word.add(\"2words\", [pattern])\n",
        "\n",
        "  # 3-word pattern\n",
        "  matcher3word = Matcher(nlp.vocab)\n",
        "  pattern = [{\"POS\":{\"IN\": [\"NOUN\", \"ADV\", \"ADJ\", \"VERB\", \"ADP\"]}},\n",
        "           {\"IS_ASCII\": True, \"IS_PUNCT\": False},\n",
        "           {\"POS\":{\"IN\": [\"VERB\", \"NOUN\", \"ADV\", \"ADJ\"]}}]\n",
        "  matcher3word.add(\"3words\", [pattern])\n",
        "\n",
        "  # Groups of 4 words\n",
        "  matcher4word = Matcher(nlp.vocab)\n",
        "  pattern = [{\"POS\":{\"IN\": [\"NOUN\", \"ADV\", \"ADJ\", \"VERB\", \"ADP\"]}},\n",
        "           {\"IS_ASCII\": True, \"IS_PUNCT\": False},\n",
        "           {\"IS_ASCII\": True, \"IS_PUNCT\": False},\n",
        "           {\"POS\":{\"IN\": [\"VERB\", \"NOUN\", \"ADV\", \"ADJ\"]}}]\n",
        "  matcher4word.add(\"4words\", [pattern])\n",
        "\n",
        "  # Identify patterns in the text\n",
        "\n",
        "  doc = nlp(text)\n",
        "  lines_5_syll = []\n",
        "  lines_7_syll = []\n",
        "  matches2word = matcher2word(doc)\n",
        "  matches3word = matcher3word(doc)\n",
        "  matches4word = matcher4word(doc)\n",
        "  for match_id, start, end in matches2word + matches3word + matches4word:\n",
        "   string_id = nlp.vocab.strings[match_id]\n",
        "   span = doc[start:end]\n",
        "   syllable_count = 0\n",
        "   for token in span:\n",
        "     syllable_count += syllapy.count(token.text)\n",
        "     if syllable_count == 5:\n",
        "       if span.text not in lines_5_syll:\n",
        "         lines_5_syll.append(span.text)\n",
        "     if syllable_count == 7:\n",
        "      if span.text not in lines_7_syll:\n",
        "        lines_7_syll.append(span.text)\n",
        "  return (lines_5_syll,lines_7_syll )"
      ],
      "metadata": {
        "id": "tkxrWy_5SVKL"
      },
      "id": "tkxrWy_5SVKL",
      "execution_count": 153,
      "outputs": []
    },
    {
      "cell_type": "code",
      "source": [
        "t = phrase_gen(\" \".join(text))"
      ],
      "metadata": {
        "id": "bdGEJrQ7OoRW"
      },
      "id": "bdGEJrQ7OoRW",
      "execution_count": 154,
      "outputs": []
    },
    {
      "cell_type": "markdown",
      "source": [
        "Now lets print a random poetry and see the creativity of out machine"
      ],
      "metadata": {
        "id": "JUP4zavRUT9S"
      },
      "id": "JUP4zavRUT9S"
    },
    {
      "cell_type": "code",
      "source": [
        "\n",
        "print(\"Poetry\")\n",
        "print(\"{0}\\n{1}\\n{2}\".format(random.choice(t[0]), random.choice(t[1]), random.choice(t[0])))\n"
      ],
      "metadata": {
        "colab": {
          "base_uri": "https://localhost:8080/"
        },
        "id": "UDDUCzllOlQr",
        "outputId": "fb211992-07d7-4671-8746-8a06549a06fc"
      },
      "id": "UDDUCzllOlQr",
      "execution_count": 155,
      "outputs": [
        {
          "output_type": "stream",
          "name": "stdout",
          "text": [
            "Poetry\n",
            "freshened it was most\n",
            "terrible points so dreaded\n",
            "beacon lights dying\n"
          ]
        }
      ]
    }
  ],
  "metadata": {
    "kernelspec": {
      "display_name": "Python 3 (ipykernel)",
      "language": "python",
      "name": "python3"
    },
    "language_info": {
      "codemirror_mode": {
        "name": "ipython",
        "version": 3
      },
      "file_extension": ".py",
      "mimetype": "text/x-python",
      "name": "python",
      "nbconvert_exporter": "python",
      "pygments_lexer": "ipython3",
      "version": "3.8.12"
    },
    "colab": {
      "name": "Web_Scrapper.ipynb",
      "provenance": [],
      "collapsed_sections": [],
      "include_colab_link": true
    }
  },
  "nbformat": 4,
  "nbformat_minor": 5
}